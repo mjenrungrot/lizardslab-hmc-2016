{
 "cells": [
  {
   "cell_type": "code",
   "execution_count": 38,
   "metadata": {
    "collapsed": true
   },
   "outputs": [],
   "source": [
    "import numpy as np\n",
    "import pandas as pd\n",
    "\n",
    "\n",
    "from bokeh.util.browser import view\n",
    "from bokeh.document import Document\n",
    "from bokeh.embed import file_html\n",
    "from bokeh.layouts import gridplot\n",
    "from bokeh.plotting import figure, show\n",
    "from bokeh.models.glyphs import Circle, Line\n",
    "from bokeh import palettes\n",
    "from bokeh.models import ColumnDataSource, Grid, LinearAxis, Plot, Range1d\n",
    "from bokeh.resources import INLINE"
   ]
  },
  {
   "cell_type": "code",
   "execution_count": 39,
   "metadata": {
    "collapsed": true
   },
   "outputs": [],
   "source": [
    "import glob\n",
    "temperature_filename_list = glob.glob('temperature *.csv')\n",
    "\n",
    "df = [pd.read_csv(i, header=None, parse_dates=[0]) for i in temperature_filename_list]\n",
    "for i in range(len(df)):\n",
    "    df[i] = df[i].drop(df[i].columns[3:6], axis=1)\n",
    "    df[i] = df[i].drop(df[i].columns[1], axis=1)"
   ]
  },
  {
   "cell_type": "code",
   "execution_count": 40,
   "metadata": {
    "collapsed": false
   },
   "outputs": [],
   "source": [
    "p = figure(title = \"Temperature Cycle Plot\", plot_width=900, plot_height=380, x_axis_type='datetime')\n",
    "p.xaxis.axis_label = \"Datetime\"\n",
    "p.yaxis.axis_label = \"Temperature\"\n",
    "\n",
    "colors = ['#5e4fa2',\n",
    " '#3288bd',\n",
    " '#66c2a5',\n",
    " '#abdda4',\n",
    " '#e6f598',\n",
    " '#ffffbf',\n",
    " '#fee08b',\n",
    " '#fdae61',\n",
    " '#f46d43',\n",
    " '#d53e4f',\n",
    " '#9e0142',\n",
    " '#cccccc']\n",
    "for i in range(len(df)):\n",
    "    p.circle(df[i].iloc[:,0], \n",
    "             df[i].iloc[:,1], \n",
    "             color=colors[i%7], \n",
    "             fill_alpha=0.2,\n",
    "             size=3)\n",
    "show(p)\n"
   ]
  },
  {
   "cell_type": "code",
   "execution_count": null,
   "metadata": {
    "collapsed": true
   },
   "outputs": [],
   "source": []
  },
  {
   "cell_type": "code",
   "execution_count": null,
   "metadata": {
    "collapsed": false
   },
   "outputs": [],
   "source": []
  },
  {
   "cell_type": "code",
   "execution_count": 36,
   "metadata": {
    "collapsed": false
   },
   "outputs": [
    {
     "ename": "SyntaxError",
     "evalue": "invalid syntax (<ipython-input-36-5af2f4d1ceea>, line 2)",
     "output_type": "error",
     "traceback": [
      "\u001b[0;36m  File \u001b[0;32m\"<ipython-input-36-5af2f4d1ceea>\"\u001b[0;36m, line \u001b[0;32m2\u001b[0m\n\u001b[0;31m    df[]\u001b[0m\n\u001b[0m       ^\u001b[0m\n\u001b[0;31mSyntaxError\u001b[0m\u001b[0;31m:\u001b[0m invalid syntax\n"
     ]
    }
   ],
   "source": []
  },
  {
   "cell_type": "code",
   "execution_count": 63,
   "metadata": {
    "collapsed": false
   },
   "outputs": [],
   "source": [
    "import datetime\n",
    "def convertTime(row):\n",
    "    return row.time()\n",
    "\n",
    "p = figure(title = \"Temperature as a function of time of the day\", plot_width=500, plot_height=380, x_axis_type='datetime')\n",
    "p.xaxis.axis_label = \"Time\"\n",
    "p.yaxis.axis_label = \"Temperature\"\n",
    "\n",
    "colors = ['#5e4fa2',\n",
    " '#3288bd',\n",
    " '#66c2a5',\n",
    " '#abdda4',\n",
    " '#e6f598',\n",
    " '#ffffbf',\n",
    " '#fee08b',\n",
    " '#fdae61',\n",
    " '#f46d43',\n",
    " '#d53e4f',\n",
    " '#9e0142',\n",
    " '#cccccc']\n",
    "\n",
    "for idx in range(len(df)):\n",
    "    if type(df[idx][0][0]) != datetime.time:\n",
    "        df[idx][0] = df[idx][0].apply(convertTime)\n",
    "    list_time = []\n",
    "    list_temperature = []\n",
    "    counter = 0\n",
    "    can = False\n",
    "    for j in range(len(df[idx][0])):\n",
    "        if (df[idx][0][j].hour >= 1) and (df[idx][0][j].hour < 23):\n",
    "            list_time.append(df[idx][0][j])\n",
    "            list_temperature.append(df[idx][2][j])\n",
    "    \n",
    "    p.circle(list_time, list_temperature, color=colors[idx%7],\n",
    "            fill_alpha=0.2, size=3)\n",
    "    \n",
    "show(p)"
   ]
  },
  {
   "cell_type": "code",
   "execution_count": null,
   "metadata": {
    "collapsed": true
   },
   "outputs": [],
   "source": []
  }
 ],
 "metadata": {
  "anaconda-cloud": {},
  "kernelspec": {
   "display_name": "Python [Root]",
   "language": "python",
   "name": "Python [Root]"
  },
  "language_info": {
   "codemirror_mode": {
    "name": "ipython",
    "version": 3
   },
   "file_extension": ".py",
   "mimetype": "text/x-python",
   "name": "python",
   "nbconvert_exporter": "python",
   "pygments_lexer": "ipython3",
   "version": "3.5.1"
  }
 },
 "nbformat": 4,
 "nbformat_minor": 0
}
