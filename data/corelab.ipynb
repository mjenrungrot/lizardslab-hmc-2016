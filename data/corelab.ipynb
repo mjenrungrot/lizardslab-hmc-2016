{
 "cells": [
  {
   "cell_type": "markdown",
   "metadata": {},
   "source": []
  },
  {
   "cell_type": "code",
   "execution_count": 2,
   "metadata": {
    "collapsed": true
   },
   "outputs": [],
   "source": [
    "import numpy as np\n",
    "import pandas as pd\n",
    "import matplotlib.pyplot as plt\n",
    "%matplotlib inline"
   ]
  },
  {
   "cell_type": "code",
   "execution_count": 3,
   "metadata": {
    "collapsed": false
   },
   "outputs": [],
   "source": [
    "dataFrame = pd.read_csv(\"data_corelab2.csv\")"
   ]
  },
  {
   "cell_type": "code",
   "execution_count": 4,
   "metadata": {
    "collapsed": false
   },
   "outputs": [],
   "source": [
    "def removePM(row):\n",
    "    row = str(row)\n",
    "    if(row[-1] == 'M'):\n",
    "        return row\n",
    "    return row + \" PM\"\n",
    "dataFrame[\"Time\"] = dataFrame[\"Time\"].apply(removePM)"
   ]
  },
  {
   "cell_type": "code",
   "execution_count": null,
   "metadata": {
    "collapsed": false
   },
   "outputs": [],
   "source": []
  },
  {
   "cell_type": "markdown",
   "metadata": {},
   "source": [
    "# Data Preprocessing"
   ]
  },
  {
   "cell_type": "markdown",
   "metadata": {},
   "source": [
    "__Normalize Species__\n",
    "\n",
    "According to a quick view at the dataset, we want to standardize the `Species` of the lizard. The following is the set of possible species in the dataset."
   ]
  },
  {
   "cell_type": "code",
   "execution_count": 5,
   "metadata": {
    "collapsed": false
   },
   "outputs": [
    {
     "data": {
      "text/plain": [
       "{nan,\n",
       " 'Western Skink',\n",
       " '?',\n",
       " 'Western-Fence',\n",
       " 'Juvenile Western Fence',\n",
       " 'Whiptail/Fence',\n",
       " 'Baby Fence',\n",
       " 'Juvenile Side-Blotched',\n",
       " 'whiptail',\n",
       " 'Whiptail',\n",
       " 'Alligator',\n",
       " 'Juvenile Fence',\n",
       " 'Small & fast lizard',\n",
       " 'Side-Blotched or whiptail?',\n",
       " 'Fence',\n",
       " 'Side-Blotched',\n",
       " 'Western Fence',\n",
       " 'southern Alligator'}"
      ]
     },
     "execution_count": 5,
     "metadata": {},
     "output_type": "execute_result"
    }
   ],
   "source": [
    "set(dataFrame['Species'])"
   ]
  },
  {
   "cell_type": "code",
   "execution_count": 6,
   "metadata": {
    "collapsed": false
   },
   "outputs": [],
   "source": [
    "# Use only Fence lizard and side-blotched \n",
    "dataFrame = dataFrame[dataFrame['Species'].notnull()]\n",
    "dataFrame['StandardizedSpecies'] = np.nan\n",
    "\n",
    "# Fence lizards\n",
    "for name in ['Baby Fence', 'Fence', 'Juvenile Fence', \\\n",
    "             'Juvenile Western Fence', 'Western Fence', 'Western-Fence']:\n",
    "    dataFrame.loc[dataFrame['Species'] == name, 'StandardizedSpecies'] = 'Fence'\n",
    "\n",
    "# Side-blotched lizards\n",
    "for name in ['Juvenile Side-Blotched', 'Side-Blotched']:\n",
    "    dataFrame.loc[dataFrame['Species'] == name, 'StandardizedSpecies'] = 'Side-Blotched'\n",
    "    \n",
    "# Remove any other types of lizards\n",
    "dataFrame = dataFrame.drop('Species', axis=1)\n",
    "dataFrame = dataFrame[dataFrame['StandardizedSpecies'].notnull()]"
   ]
  },
  {
   "cell_type": "markdown",
   "metadata": {},
   "source": [
    "__Normalize Time__\n"
   ]
  },
  {
   "cell_type": "code",
   "execution_count": 7,
   "metadata": {
    "collapsed": false
   },
   "outputs": [],
   "source": [
    "temp_hr = pd.to_datetime(dataFrame['Time']).dt.hour % 12 + 12\n",
    "temp_min1 = (pd.to_datetime(dataFrame['Time']).dt.minute / 10).astype(int)\n",
    "temp_min2 = pd.to_datetime(dataFrame['Time']).dt.minute % 10\n",
    "temp_min = temp_min1.astype(str).str.cat(temp_min2.astype(str), sep=\"\")\n",
    "temp_combined = temp_hr.astype(str).str.cat(temp_min.astype(str), sep=':')\n",
    "dataFrame['normalizedTime'] = temp_combined\n",
    "dataFrame = dataFrame.drop('Time', axis=1)"
   ]
  },
  {
   "cell_type": "markdown",
   "metadata": {},
   "source": [
    "__Normalize Sun conditions__"
   ]
  },
  {
   "cell_type": "code",
   "execution_count": 8,
   "metadata": {
    "collapsed": false
   },
   "outputs": [
    {
     "data": {
      "text/plain": [
       "{'Overcast', 'Shade', 'Sun'}"
      ]
     },
     "execution_count": 8,
     "metadata": {},
     "output_type": "execute_result"
    }
   ],
   "source": [
    "dataFrame['Sun conditions'] = dataFrame['Sun conditions'].str.capitalize()\n",
    "dataFrame.loc[dataFrame['Sun conditions'] == 'Sun', 'Sun conditions'] = 'Sunny'\n",
    "dataFrame['Normalized Sun conditions'] = np.nan\n",
    "\n",
    "# Sunny\n",
    "for name in ['Full sun', 'Partial sun', 'Sunny']:\n",
    "    dataFrame.loc[dataFrame['Sun conditions'] == name, 'Normalized Sun conditions'] = 'Sun'\n",
    "\n",
    "for name in ['Overcast']:\n",
    "    dataFrame.loc[dataFrame['Sun conditions'] == name, 'Normalized Sun conditions'] = 'Overcast'\n",
    "    \n",
    "# Shade\n",
    "for name in ['Partial shade', 'Shade']:\n",
    "    dataFrame.loc[dataFrame['Sun conditions'] == name, 'Normalized Sun conditions'] = 'Shade'\n",
    "\n",
    "dataFrame = dataFrame[dataFrame['Normalized Sun conditions'].notnull()]\n",
    "set(dataFrame['Normalized Sun conditions'])"
   ]
  },
  {
   "cell_type": "code",
   "execution_count": 9,
   "metadata": {
    "collapsed": false
   },
   "outputs": [
    {
     "data": {
      "text/plain": [
       "Index(['Names (observers)', 'Date', 'Substrate', 'Sun conditions',\n",
       "       'Originally partial shade?'],\n",
       "      dtype='object')"
      ]
     },
     "execution_count": 9,
     "metadata": {},
     "output_type": "execute_result"
    }
   ],
   "source": [
    "dataFrame.columns[0:2].append(dataFrame.columns[4:7])"
   ]
  },
  {
   "cell_type": "code",
   "execution_count": 10,
   "metadata": {
    "collapsed": false
   },
   "outputs": [],
   "source": [
    "dataFrame = dataFrame.drop(dataFrame.columns[0:2].append(dataFrame.columns[4:7]), axis=1)\n",
    "cols = [dataFrame.columns[3], \n",
    "        dataFrame.columns[2], \n",
    "        dataFrame.columns[0], \n",
    "        dataFrame.columns[1], \n",
    "        dataFrame.columns[4]]"
   ]
  },
  {
   "cell_type": "code",
   "execution_count": 11,
   "metadata": {
    "collapsed": false
   },
   "outputs": [
    {
     "data": {
      "text/html": [
       "<div>\n",
       "<table border=\"1\" class=\"dataframe\">\n",
       "  <thead>\n",
       "    <tr style=\"text-align: right;\">\n",
       "      <th></th>\n",
       "      <th>Time</th>\n",
       "      <th>Species</th>\n",
       "      <th>Temperature</th>\n",
       "      <th>Height</th>\n",
       "      <th>Condition</th>\n",
       "    </tr>\n",
       "  </thead>\n",
       "  <tbody>\n",
       "    <tr>\n",
       "      <th>0</th>\n",
       "      <td>14:03</td>\n",
       "      <td>Fence</td>\n",
       "      <td>33.2</td>\n",
       "      <td>0.0</td>\n",
       "      <td>Overcast</td>\n",
       "    </tr>\n",
       "    <tr>\n",
       "      <th>1</th>\n",
       "      <td>15:15</td>\n",
       "      <td>Fence</td>\n",
       "      <td>30.2</td>\n",
       "      <td>2.0</td>\n",
       "      <td>Overcast</td>\n",
       "    </tr>\n",
       "    <tr>\n",
       "      <th>3</th>\n",
       "      <td>14:07</td>\n",
       "      <td>Fence</td>\n",
       "      <td>31.6</td>\n",
       "      <td>5.0</td>\n",
       "      <td>Overcast</td>\n",
       "    </tr>\n",
       "    <tr>\n",
       "      <th>4</th>\n",
       "      <td>13:53</td>\n",
       "      <td>Fence</td>\n",
       "      <td>37.4</td>\n",
       "      <td>0.0</td>\n",
       "      <td>Overcast</td>\n",
       "    </tr>\n",
       "    <tr>\n",
       "      <th>5</th>\n",
       "      <td>13:53</td>\n",
       "      <td>Fence</td>\n",
       "      <td>35.2</td>\n",
       "      <td>0.0</td>\n",
       "      <td>Overcast</td>\n",
       "    </tr>\n",
       "    <tr>\n",
       "      <th>6</th>\n",
       "      <td>14:03</td>\n",
       "      <td>Fence</td>\n",
       "      <td>36.2</td>\n",
       "      <td>0.0</td>\n",
       "      <td>Overcast</td>\n",
       "    </tr>\n",
       "    <tr>\n",
       "      <th>7</th>\n",
       "      <td>14:08</td>\n",
       "      <td>Fence</td>\n",
       "      <td>35.6</td>\n",
       "      <td>0.0</td>\n",
       "      <td>Overcast</td>\n",
       "    </tr>\n",
       "    <tr>\n",
       "      <th>8</th>\n",
       "      <td>14:50</td>\n",
       "      <td>Fence</td>\n",
       "      <td>31.2</td>\n",
       "      <td>19.0</td>\n",
       "      <td>Overcast</td>\n",
       "    </tr>\n",
       "    <tr>\n",
       "      <th>9</th>\n",
       "      <td>14:02</td>\n",
       "      <td>Fence</td>\n",
       "      <td>35.6</td>\n",
       "      <td>0.0</td>\n",
       "      <td>Overcast</td>\n",
       "    </tr>\n",
       "    <tr>\n",
       "      <th>10</th>\n",
       "      <td>14:50</td>\n",
       "      <td>Side-Blotched</td>\n",
       "      <td>31.6</td>\n",
       "      <td>0.0</td>\n",
       "      <td>Overcast</td>\n",
       "    </tr>\n",
       "    <tr>\n",
       "      <th>11</th>\n",
       "      <td>14:10</td>\n",
       "      <td>Fence</td>\n",
       "      <td>34.4</td>\n",
       "      <td>0.0</td>\n",
       "      <td>Overcast</td>\n",
       "    </tr>\n",
       "    <tr>\n",
       "      <th>12</th>\n",
       "      <td>14:55</td>\n",
       "      <td>Side-Blotched</td>\n",
       "      <td>32.6</td>\n",
       "      <td>10.0</td>\n",
       "      <td>Overcast</td>\n",
       "    </tr>\n",
       "    <tr>\n",
       "      <th>13</th>\n",
       "      <td>14:12</td>\n",
       "      <td>Fence</td>\n",
       "      <td>34.0</td>\n",
       "      <td>0.0</td>\n",
       "      <td>Overcast</td>\n",
       "    </tr>\n",
       "    <tr>\n",
       "      <th>14</th>\n",
       "      <td>14:59</td>\n",
       "      <td>Side-Blotched</td>\n",
       "      <td>32.8</td>\n",
       "      <td>18.0</td>\n",
       "      <td>Overcast</td>\n",
       "    </tr>\n",
       "    <tr>\n",
       "      <th>15</th>\n",
       "      <td>14:20</td>\n",
       "      <td>Side-Blotched</td>\n",
       "      <td>33.0</td>\n",
       "      <td>0.0</td>\n",
       "      <td>Overcast</td>\n",
       "    </tr>\n",
       "    <tr>\n",
       "      <th>16</th>\n",
       "      <td>15:01</td>\n",
       "      <td>Side-Blotched</td>\n",
       "      <td>33.4</td>\n",
       "      <td>5.0</td>\n",
       "      <td>Overcast</td>\n",
       "    </tr>\n",
       "    <tr>\n",
       "      <th>17</th>\n",
       "      <td>14:21</td>\n",
       "      <td>Fence</td>\n",
       "      <td>32.2</td>\n",
       "      <td>0.0</td>\n",
       "      <td>Overcast</td>\n",
       "    </tr>\n",
       "    <tr>\n",
       "      <th>18</th>\n",
       "      <td>15:03</td>\n",
       "      <td>Side-Blotched</td>\n",
       "      <td>32.2</td>\n",
       "      <td>10.0</td>\n",
       "      <td>Overcast</td>\n",
       "    </tr>\n",
       "    <tr>\n",
       "      <th>19</th>\n",
       "      <td>15:22</td>\n",
       "      <td>Side-Blotched</td>\n",
       "      <td>32.2</td>\n",
       "      <td>5.0</td>\n",
       "      <td>Overcast</td>\n",
       "    </tr>\n",
       "    <tr>\n",
       "      <th>20</th>\n",
       "      <td>13:53</td>\n",
       "      <td>Side-Blotched</td>\n",
       "      <td>35.2</td>\n",
       "      <td>0.0</td>\n",
       "      <td>Overcast</td>\n",
       "    </tr>\n",
       "    <tr>\n",
       "      <th>21</th>\n",
       "      <td>13:56</td>\n",
       "      <td>Side-Blotched</td>\n",
       "      <td>36.2</td>\n",
       "      <td>0.0</td>\n",
       "      <td>Overcast</td>\n",
       "    </tr>\n",
       "    <tr>\n",
       "      <th>22</th>\n",
       "      <td>14:04</td>\n",
       "      <td>Side-Blotched</td>\n",
       "      <td>31.4</td>\n",
       "      <td>0.0</td>\n",
       "      <td>Overcast</td>\n",
       "    </tr>\n",
       "    <tr>\n",
       "      <th>23</th>\n",
       "      <td>14:20</td>\n",
       "      <td>Side-Blotched</td>\n",
       "      <td>33.8</td>\n",
       "      <td>16.0</td>\n",
       "      <td>Overcast</td>\n",
       "    </tr>\n",
       "    <tr>\n",
       "      <th>24</th>\n",
       "      <td>14:32</td>\n",
       "      <td>Fence</td>\n",
       "      <td>29.6</td>\n",
       "      <td>11.0</td>\n",
       "      <td>Overcast</td>\n",
       "    </tr>\n",
       "    <tr>\n",
       "      <th>25</th>\n",
       "      <td>14:33</td>\n",
       "      <td>Fence</td>\n",
       "      <td>27.8</td>\n",
       "      <td>102.0</td>\n",
       "      <td>Overcast</td>\n",
       "    </tr>\n",
       "    <tr>\n",
       "      <th>26</th>\n",
       "      <td>14:34</td>\n",
       "      <td>Fence</td>\n",
       "      <td>28.0</td>\n",
       "      <td>67.0</td>\n",
       "      <td>Overcast</td>\n",
       "    </tr>\n",
       "    <tr>\n",
       "      <th>27</th>\n",
       "      <td>14:41</td>\n",
       "      <td>Side-Blotched</td>\n",
       "      <td>34.4</td>\n",
       "      <td>0.0</td>\n",
       "      <td>Overcast</td>\n",
       "    </tr>\n",
       "    <tr>\n",
       "      <th>28</th>\n",
       "      <td>14:45</td>\n",
       "      <td>Fence</td>\n",
       "      <td>30.8</td>\n",
       "      <td>90.0</td>\n",
       "      <td>Overcast</td>\n",
       "    </tr>\n",
       "    <tr>\n",
       "      <th>29</th>\n",
       "      <td>14:51</td>\n",
       "      <td>Fence</td>\n",
       "      <td>32.6</td>\n",
       "      <td>0.0</td>\n",
       "      <td>Overcast</td>\n",
       "    </tr>\n",
       "    <tr>\n",
       "      <th>30</th>\n",
       "      <td>14:55</td>\n",
       "      <td>Fence</td>\n",
       "      <td>31.4</td>\n",
       "      <td>14.0</td>\n",
       "      <td>Overcast</td>\n",
       "    </tr>\n",
       "    <tr>\n",
       "      <th>...</th>\n",
       "      <td>...</td>\n",
       "      <td>...</td>\n",
       "      <td>...</td>\n",
       "      <td>...</td>\n",
       "      <td>...</td>\n",
       "    </tr>\n",
       "    <tr>\n",
       "      <th>343</th>\n",
       "      <td>14:38</td>\n",
       "      <td>Fence</td>\n",
       "      <td>36.4</td>\n",
       "      <td>150.0</td>\n",
       "      <td>Shade</td>\n",
       "    </tr>\n",
       "    <tr>\n",
       "      <th>344</th>\n",
       "      <td>14:38</td>\n",
       "      <td>Fence</td>\n",
       "      <td>33.6</td>\n",
       "      <td>55.0</td>\n",
       "      <td>Shade</td>\n",
       "    </tr>\n",
       "    <tr>\n",
       "      <th>345</th>\n",
       "      <td>14:40</td>\n",
       "      <td>Fence</td>\n",
       "      <td>36.4</td>\n",
       "      <td>207.0</td>\n",
       "      <td>Shade</td>\n",
       "    </tr>\n",
       "    <tr>\n",
       "      <th>346</th>\n",
       "      <td>14:44</td>\n",
       "      <td>Side-Blotched</td>\n",
       "      <td>46.6</td>\n",
       "      <td>0.0</td>\n",
       "      <td>Shade</td>\n",
       "    </tr>\n",
       "    <tr>\n",
       "      <th>347</th>\n",
       "      <td>14:50</td>\n",
       "      <td>Fence</td>\n",
       "      <td>33.2</td>\n",
       "      <td>80.0</td>\n",
       "      <td>Shade</td>\n",
       "    </tr>\n",
       "    <tr>\n",
       "      <th>348</th>\n",
       "      <td>15:08</td>\n",
       "      <td>Side-Blotched</td>\n",
       "      <td>39.0</td>\n",
       "      <td>0.0</td>\n",
       "      <td>Shade</td>\n",
       "    </tr>\n",
       "    <tr>\n",
       "      <th>349</th>\n",
       "      <td>13:32</td>\n",
       "      <td>Side-Blotched</td>\n",
       "      <td>33.4</td>\n",
       "      <td>34.0</td>\n",
       "      <td>Sun</td>\n",
       "    </tr>\n",
       "    <tr>\n",
       "      <th>350</th>\n",
       "      <td>13:45</td>\n",
       "      <td>Fence</td>\n",
       "      <td>40.8</td>\n",
       "      <td>0.0</td>\n",
       "      <td>Sun</td>\n",
       "    </tr>\n",
       "    <tr>\n",
       "      <th>351</th>\n",
       "      <td>13:45</td>\n",
       "      <td>Fence</td>\n",
       "      <td>44.8</td>\n",
       "      <td>0.0</td>\n",
       "      <td>Sun</td>\n",
       "    </tr>\n",
       "    <tr>\n",
       "      <th>352</th>\n",
       "      <td>13:50</td>\n",
       "      <td>Fence</td>\n",
       "      <td>43.4</td>\n",
       "      <td>0.0</td>\n",
       "      <td>Sun</td>\n",
       "    </tr>\n",
       "    <tr>\n",
       "      <th>353</th>\n",
       "      <td>13:52</td>\n",
       "      <td>Fence</td>\n",
       "      <td>17.6</td>\n",
       "      <td>17.0</td>\n",
       "      <td>Shade</td>\n",
       "    </tr>\n",
       "    <tr>\n",
       "      <th>354</th>\n",
       "      <td>14:07</td>\n",
       "      <td>Side-Blotched</td>\n",
       "      <td>47.6</td>\n",
       "      <td>16.0</td>\n",
       "      <td>Sun</td>\n",
       "    </tr>\n",
       "    <tr>\n",
       "      <th>355</th>\n",
       "      <td>14:24</td>\n",
       "      <td>Side-Blotched</td>\n",
       "      <td>43.4</td>\n",
       "      <td>7.0</td>\n",
       "      <td>Shade</td>\n",
       "    </tr>\n",
       "    <tr>\n",
       "      <th>356</th>\n",
       "      <td>14:32</td>\n",
       "      <td>Fence</td>\n",
       "      <td>38.8</td>\n",
       "      <td>7.0</td>\n",
       "      <td>Sun</td>\n",
       "    </tr>\n",
       "    <tr>\n",
       "      <th>357</th>\n",
       "      <td>15:06</td>\n",
       "      <td>Fence</td>\n",
       "      <td>32.2</td>\n",
       "      <td>5.0</td>\n",
       "      <td>Shade</td>\n",
       "    </tr>\n",
       "    <tr>\n",
       "      <th>359</th>\n",
       "      <td>13:53</td>\n",
       "      <td>Fence</td>\n",
       "      <td>47.8</td>\n",
       "      <td>0.0</td>\n",
       "      <td>Sun</td>\n",
       "    </tr>\n",
       "    <tr>\n",
       "      <th>360</th>\n",
       "      <td>14:12</td>\n",
       "      <td>Fence</td>\n",
       "      <td>37.6</td>\n",
       "      <td>6.0</td>\n",
       "      <td>Shade</td>\n",
       "    </tr>\n",
       "    <tr>\n",
       "      <th>361</th>\n",
       "      <td>14:22</td>\n",
       "      <td>Fence</td>\n",
       "      <td>47.8</td>\n",
       "      <td>0.0</td>\n",
       "      <td>Sun</td>\n",
       "    </tr>\n",
       "    <tr>\n",
       "      <th>362</th>\n",
       "      <td>14:40</td>\n",
       "      <td>Side-Blotched</td>\n",
       "      <td>34.0</td>\n",
       "      <td>29.0</td>\n",
       "      <td>Shade</td>\n",
       "    </tr>\n",
       "    <tr>\n",
       "      <th>363</th>\n",
       "      <td>14:43</td>\n",
       "      <td>Fence</td>\n",
       "      <td>23.6</td>\n",
       "      <td>0.0</td>\n",
       "      <td>Shade</td>\n",
       "    </tr>\n",
       "    <tr>\n",
       "      <th>364</th>\n",
       "      <td>14:46</td>\n",
       "      <td>Fence</td>\n",
       "      <td>38.6</td>\n",
       "      <td>21.0</td>\n",
       "      <td>Shade</td>\n",
       "    </tr>\n",
       "    <tr>\n",
       "      <th>365</th>\n",
       "      <td>14:49</td>\n",
       "      <td>Fence</td>\n",
       "      <td>38.6</td>\n",
       "      <td>8.0</td>\n",
       "      <td>Shade</td>\n",
       "    </tr>\n",
       "    <tr>\n",
       "      <th>366</th>\n",
       "      <td>14:50</td>\n",
       "      <td>Fence</td>\n",
       "      <td>38.6</td>\n",
       "      <td>8.0</td>\n",
       "      <td>Shade</td>\n",
       "    </tr>\n",
       "    <tr>\n",
       "      <th>367</th>\n",
       "      <td>15:01</td>\n",
       "      <td>Fence</td>\n",
       "      <td>32.6</td>\n",
       "      <td>50.0</td>\n",
       "      <td>Shade</td>\n",
       "    </tr>\n",
       "    <tr>\n",
       "      <th>368</th>\n",
       "      <td>13:32</td>\n",
       "      <td>Fence</td>\n",
       "      <td>33.8</td>\n",
       "      <td>167.0</td>\n",
       "      <td>Shade</td>\n",
       "    </tr>\n",
       "    <tr>\n",
       "      <th>370</th>\n",
       "      <td>13:52</td>\n",
       "      <td>Fence</td>\n",
       "      <td>38.0</td>\n",
       "      <td>14.0</td>\n",
       "      <td>Shade</td>\n",
       "    </tr>\n",
       "    <tr>\n",
       "      <th>371</th>\n",
       "      <td>14:13</td>\n",
       "      <td>Fence</td>\n",
       "      <td>33.0</td>\n",
       "      <td>17.0</td>\n",
       "      <td>Shade</td>\n",
       "    </tr>\n",
       "    <tr>\n",
       "      <th>372</th>\n",
       "      <td>14:30</td>\n",
       "      <td>Fence</td>\n",
       "      <td>32.0</td>\n",
       "      <td>13.0</td>\n",
       "      <td>Shade</td>\n",
       "    </tr>\n",
       "    <tr>\n",
       "      <th>373</th>\n",
       "      <td>14:48</td>\n",
       "      <td>Fence</td>\n",
       "      <td>43.0</td>\n",
       "      <td>0.0</td>\n",
       "      <td>Shade</td>\n",
       "    </tr>\n",
       "    <tr>\n",
       "      <th>374</th>\n",
       "      <td>13:20</td>\n",
       "      <td>Fence</td>\n",
       "      <td>38.0</td>\n",
       "      <td>30.0</td>\n",
       "      <td>Shade</td>\n",
       "    </tr>\n",
       "  </tbody>\n",
       "</table>\n",
       "<p>345 rows × 5 columns</p>\n",
       "</div>"
      ],
      "text/plain": [
       "      Time        Species  Temperature  Height Condition\n",
       "0    14:03          Fence         33.2     0.0  Overcast\n",
       "1    15:15          Fence         30.2     2.0  Overcast\n",
       "3    14:07          Fence         31.6     5.0  Overcast\n",
       "4    13:53          Fence         37.4     0.0  Overcast\n",
       "5    13:53          Fence         35.2     0.0  Overcast\n",
       "6    14:03          Fence         36.2     0.0  Overcast\n",
       "7    14:08          Fence         35.6     0.0  Overcast\n",
       "8    14:50          Fence         31.2    19.0  Overcast\n",
       "9    14:02          Fence         35.6     0.0  Overcast\n",
       "10   14:50  Side-Blotched         31.6     0.0  Overcast\n",
       "11   14:10          Fence         34.4     0.0  Overcast\n",
       "12   14:55  Side-Blotched         32.6    10.0  Overcast\n",
       "13   14:12          Fence         34.0     0.0  Overcast\n",
       "14   14:59  Side-Blotched         32.8    18.0  Overcast\n",
       "15   14:20  Side-Blotched         33.0     0.0  Overcast\n",
       "16   15:01  Side-Blotched         33.4     5.0  Overcast\n",
       "17   14:21          Fence         32.2     0.0  Overcast\n",
       "18   15:03  Side-Blotched         32.2    10.0  Overcast\n",
       "19   15:22  Side-Blotched         32.2     5.0  Overcast\n",
       "20   13:53  Side-Blotched         35.2     0.0  Overcast\n",
       "21   13:56  Side-Blotched         36.2     0.0  Overcast\n",
       "22   14:04  Side-Blotched         31.4     0.0  Overcast\n",
       "23   14:20  Side-Blotched         33.8    16.0  Overcast\n",
       "24   14:32          Fence         29.6    11.0  Overcast\n",
       "25   14:33          Fence         27.8   102.0  Overcast\n",
       "26   14:34          Fence         28.0    67.0  Overcast\n",
       "27   14:41  Side-Blotched         34.4     0.0  Overcast\n",
       "28   14:45          Fence         30.8    90.0  Overcast\n",
       "29   14:51          Fence         32.6     0.0  Overcast\n",
       "30   14:55          Fence         31.4    14.0  Overcast\n",
       "..     ...            ...          ...     ...       ...\n",
       "343  14:38          Fence         36.4   150.0     Shade\n",
       "344  14:38          Fence         33.6    55.0     Shade\n",
       "345  14:40          Fence         36.4   207.0     Shade\n",
       "346  14:44  Side-Blotched         46.6     0.0     Shade\n",
       "347  14:50          Fence         33.2    80.0     Shade\n",
       "348  15:08  Side-Blotched         39.0     0.0     Shade\n",
       "349  13:32  Side-Blotched         33.4    34.0       Sun\n",
       "350  13:45          Fence         40.8     0.0       Sun\n",
       "351  13:45          Fence         44.8     0.0       Sun\n",
       "352  13:50          Fence         43.4     0.0       Sun\n",
       "353  13:52          Fence         17.6    17.0     Shade\n",
       "354  14:07  Side-Blotched         47.6    16.0       Sun\n",
       "355  14:24  Side-Blotched         43.4     7.0     Shade\n",
       "356  14:32          Fence         38.8     7.0       Sun\n",
       "357  15:06          Fence         32.2     5.0     Shade\n",
       "359  13:53          Fence         47.8     0.0       Sun\n",
       "360  14:12          Fence         37.6     6.0     Shade\n",
       "361  14:22          Fence         47.8     0.0       Sun\n",
       "362  14:40  Side-Blotched         34.0    29.0     Shade\n",
       "363  14:43          Fence         23.6     0.0     Shade\n",
       "364  14:46          Fence         38.6    21.0     Shade\n",
       "365  14:49          Fence         38.6     8.0     Shade\n",
       "366  14:50          Fence         38.6     8.0     Shade\n",
       "367  15:01          Fence         32.6    50.0     Shade\n",
       "368  13:32          Fence         33.8   167.0     Shade\n",
       "370  13:52          Fence         38.0    14.0     Shade\n",
       "371  14:13          Fence         33.0    17.0     Shade\n",
       "372  14:30          Fence         32.0    13.0     Shade\n",
       "373  14:48          Fence         43.0     0.0     Shade\n",
       "374  13:20          Fence         38.0    30.0     Shade\n",
       "\n",
       "[345 rows x 5 columns]"
      ]
     },
     "execution_count": 11,
     "metadata": {},
     "output_type": "execute_result"
    }
   ],
   "source": [
    "dataFrame = dataFrame[cols]\n",
    "dataFrame.columns = ['Time','Species','Temperature','Height','Condition']\n",
    "dataFrame"
   ]
  },
  {
   "cell_type": "code",
   "execution_count": 12,
   "metadata": {
    "collapsed": false
   },
   "outputs": [],
   "source": [
    "dataFrame.to_csv( \"normalizedData.csv\", index=False)"
   ]
  },
  {
   "cell_type": "markdown",
   "metadata": {},
   "source": [
    "# Results"
   ]
  },
  {
   "cell_type": "code",
   "execution_count": 13,
   "metadata": {
    "collapsed": false
   },
   "outputs": [],
   "source": [
    "Total                = len(dataFrame)\n",
    "\n",
    "FenceLizards         = dataFrame['Species'] == 'Fence'\n",
    "SideBlotchedLizards  = dataFrame['Species'] == 'Side-Blotched'\n",
    "\n",
    "SunCondition         = dataFrame['Condition'] == 'Sun'\n",
    "ShadeCondition       = dataFrame['Condition'] == 'Shade'"
   ]
  },
  {
   "cell_type": "code",
   "execution_count": 14,
   "metadata": {
    "collapsed": false
   },
   "outputs": [],
   "source": [
    "FenceSun          = FenceLizards & SunCondition\n",
    "FenceShade        = FenceLizards & ShadeCondition\n",
    "SideBlotchedSun   = SideBlotchedLizards & SunCondition\n",
    "SideBlotchedShade = SideBlotchedLizards & ShadeCondition"
   ]
  },
  {
   "cell_type": "code",
   "execution_count": 15,
   "metadata": {
    "collapsed": false
   },
   "outputs": [
    {
     "name": "stdout",
     "output_type": "stream",
     "text": [
      "              | Sun  | Shade\n",
      "----------------------------\n",
      "Fence         | 58   | 92\n",
      "Side-Blotched | 88  | 34\n"
     ]
    }
   ],
   "source": [
    "print(\"              | Sun  | Shade\")\n",
    "print(\"----------------------------\")\n",
    "print(\"Fence         | {}   | {}\".format(np.sum(FenceSun),np.sum(FenceShade)))\n",
    "print(\"Side-Blotched | {}  | {}\".format(np.sum(SideBlotchedSun),np.sum(SideBlotchedShade)))"
   ]
  },
  {
   "cell_type": "code",
   "execution_count": 16,
   "metadata": {
    "collapsed": false
   },
   "outputs": [
    {
     "name": "stdout",
     "output_type": "stream",
     "text": [
      "Chi square statistic is 30.301545334754408\n"
     ]
    }
   ],
   "source": [
    "a = np.sum(FenceSun)\n",
    "b = np.sum(FenceShade)\n",
    "c = np.sum(SideBlotchedSun)\n",
    "d = np.sum(SideBlotchedShade)\n",
    "chi_square = ((a*d - b*c)**2)*(a+b+c+d)/((a+b)*(c+d)*(b+d)*(a+c))\n",
    "print(\"Chi square statistic is {}\".format(chi_square))"
   ]
  },
  {
   "cell_type": "markdown",
   "metadata": {},
   "source": [
    "__Pie Diagram of two Species__\n",
    "\n",
    "This following diagram depicts the number of samples for each species (Fence lizards or Side-Blotched lizards)."
   ]
  },
  {
   "cell_type": "code",
   "execution_count": 17,
   "metadata": {
    "collapsed": false
   },
   "outputs": [
    {
     "data": {
      "image/png": "[encoded data removed]",
      "text/plain": [
       "<matplotlib.figure.Figure at 0x2b9077b3588>"
      ]
     },
     "metadata": {},
     "output_type": "display_data"
    }
   ],
   "source": [
    "# The slices will be ordered and plotted counter-clockwise.\n",
    "labels = 'Fence', 'Side-Blotched'\n",
    "sizes = [np.sum(FenceLizards), np.sum(SideBlotchedLizards)]\n",
    "colors = ['yellowgreen', 'gold']\n",
    "explode = (0, 0)\n",
    "\n",
    "plt.pie(sizes, explode=explode, labels=labels, colors=colors,\n",
    "        autopct='%1.1f%%', shadow=True, startangle=90)\n",
    "# Set aspect ratio to be equal so that pie is drawn as a circle.\n",
    "plt.axis('equal')\n",
    "plt.savefig(\"Pie_chart.png\")"
   ]
  },
  {
   "cell_type": "markdown",
   "metadata": {},
   "source": [
    "This following diagram also includes the sun condition when the lizards were found, i.e., either the sun condition was sunny or in shade."
   ]
  },
  {
   "cell_type": "code",
   "execution_count": 19,
   "metadata": {
    "collapsed": false
   },
   "outputs": [
    {
     "data": {
      "text/plain": [
       "(-1.0815915909086542,\n",
       " 1.1097734524272891,\n",
       " -1.0891353607083119,\n",
       " 1.0923879532511287)"
      ]
     },
     "execution_count": 19,
     "metadata": {},
     "output_type": "execute_result"
    },
    {
     "data": {
      "image/png": "[encoded data removed]",
      "text/plain": [
       "<matplotlib.figure.Figure at 0x1172ed2e8>"
      ]
     },
     "metadata": {},
     "output_type": "display_data"
    }
   ],
   "source": [
    "# The slices will be ordered and plotted counter-clockwise.\n",
    "labels = 'FenceSun', 'FenceShade', 'SideBlotchedSun', 'SideBlotchedShade'\n",
    "sizes = [np.sum(FenceSun), np.sum(FenceShade), np.sum(SideBlotchedSun), np.sum(SideBlotchedShade)]\n",
    "colors = ['yellowgreen', 'gold', 'lightskyblue', 'lightcoral']\n",
    "explode = (0.1, 0.1, 0.1, 0.1)\n",
    "\n",
    "plt.pie(sizes, explode=explode, labels=labels, colors=colors,\n",
    "        autopct='%1.1f%%', shadow=True, startangle=90)\n",
    "# Set aspect ratio to be equal so that pie is drawn as a circle.\n",
    "plt.axis('equal')"
   ]
  },
  {
   "cell_type": "code",
   "execution_count": null,
   "metadata": {
    "collapsed": true
   },
   "outputs": [],
   "source": []
  },
  {
   "cell_type": "code",
   "execution_count": null,
   "metadata": {
    "collapsed": false
   },
   "outputs": [],
   "source": [
    "dataFrame"
   ]
  },
  {
   "cell_type": "code",
   "execution_count": null,
   "metadata": {
    "collapsed": true
   },
   "outputs": [],
   "source": []
  }
 ],
 "metadata": {
  "anaconda-cloud": {},
  "kernelspec": {
   "display_name": "Python [Root]",
   "language": "python",
   "name": "Python [Root]"
  },
  "language_info": {
   "codemirror_mode": {
    "name": "ipython",
    "version": 3
   },
   "file_extension": ".py",
   "mimetype": "text/x-python",
   "name": "python",
   "nbconvert_exporter": "python",
   "pygments_lexer": "ipython3",
   "version": "3.5.2"
  }
 },
 "nbformat": 4,
 "nbformat_minor": 0
}
