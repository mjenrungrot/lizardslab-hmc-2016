{
 "cells": [
  {
   "cell_type": "code",
   "execution_count": 6,
   "metadata": {
    "collapsed": true
   },
   "outputs": [],
   "source": [
    "import numpy as np\n",
    "import pandas as pd\n",
    "import matplotlib.pyplot as plt\n",
    "import datetime\n",
    "%matplotlib inline\n",
    "plt.style.use('ggplot')"
   ]
  },
  {
   "cell_type": "code",
   "execution_count": 7,
   "metadata": {
    "collapsed": false
   },
   "outputs": [],
   "source": [
    "dataFrame = pd.read_csv(\"../data/normalizedData.csv\")\n",
    "dataFrame = dataFrame[~np.isnan(dataFrame[\"Temperature\"])]"
   ]
  },
  {
   "cell_type": "code",
   "execution_count": 11,
   "metadata": {
    "collapsed": false
   },
   "outputs": [
    {
     "data": {
      "text/html": [
       "<div>\n",
       "<table border=\"1\" class=\"dataframe\">\n",
       "  <thead>\n",
       "    <tr style=\"text-align: right;\">\n",
       "      <th></th>\n",
       "      <th>Temperature</th>\n",
       "      <th>Height</th>\n",
       "    </tr>\n",
       "  </thead>\n",
       "  <tbody>\n",
       "    <tr>\n",
       "      <th>count</th>\n",
       "      <td>187.000000</td>\n",
       "      <td>187.000000</td>\n",
       "    </tr>\n",
       "    <tr>\n",
       "      <th>mean</th>\n",
       "      <td>35.104278</td>\n",
       "      <td>44.381765</td>\n",
       "    </tr>\n",
       "    <tr>\n",
       "      <th>std</th>\n",
       "      <td>6.099117</td>\n",
       "      <td>83.614630</td>\n",
       "    </tr>\n",
       "    <tr>\n",
       "      <th>min</th>\n",
       "      <td>17.600000</td>\n",
       "      <td>0.000000</td>\n",
       "    </tr>\n",
       "    <tr>\n",
       "      <th>25%</th>\n",
       "      <td>31.500000</td>\n",
       "      <td>0.000000</td>\n",
       "    </tr>\n",
       "    <tr>\n",
       "      <th>50%</th>\n",
       "      <td>34.000000</td>\n",
       "      <td>8.000000</td>\n",
       "    </tr>\n",
       "    <tr>\n",
       "      <th>75%</th>\n",
       "      <td>37.800000</td>\n",
       "      <td>42.250000</td>\n",
       "    </tr>\n",
       "    <tr>\n",
       "      <th>max</th>\n",
       "      <td>58.400000</td>\n",
       "      <td>500.000000</td>\n",
       "    </tr>\n",
       "  </tbody>\n",
       "</table>\n",
       "</div>"
      ],
      "text/plain": [
       "       Temperature      Height\n",
       "count   187.000000  187.000000\n",
       "mean     35.104278   44.381765\n",
       "std       6.099117   83.614630\n",
       "min      17.600000    0.000000\n",
       "25%      31.500000    0.000000\n",
       "50%      34.000000    8.000000\n",
       "75%      37.800000   42.250000\n",
       "max      58.400000  500.000000"
      ]
     },
     "execution_count": 11,
     "metadata": {},
     "output_type": "execute_result"
    }
   ],
   "source": [
    "dataFrame[dataFrame[\"Species\"] == \"Fence\"].describe()"
   ]
  },
  {
   "cell_type": "code",
   "execution_count": 12,
   "metadata": {
    "collapsed": false
   },
   "outputs": [
    {
     "data": {
      "text/html": [
       "<div>\n",
       "<table border=\"1\" class=\"dataframe\">\n",
       "  <thead>\n",
       "    <tr style=\"text-align: right;\">\n",
       "      <th></th>\n",
       "      <th>Temperature</th>\n",
       "      <th>Height</th>\n",
       "    </tr>\n",
       "  </thead>\n",
       "  <tbody>\n",
       "    <tr>\n",
       "      <th>count</th>\n",
       "      <td>157.000000</td>\n",
       "      <td>157.00000</td>\n",
       "    </tr>\n",
       "    <tr>\n",
       "      <th>mean</th>\n",
       "      <td>36.573885</td>\n",
       "      <td>7.39172</td>\n",
       "    </tr>\n",
       "    <tr>\n",
       "      <th>std</th>\n",
       "      <td>7.075537</td>\n",
       "      <td>13.02221</td>\n",
       "    </tr>\n",
       "    <tr>\n",
       "      <th>min</th>\n",
       "      <td>17.800000</td>\n",
       "      <td>0.00000</td>\n",
       "    </tr>\n",
       "    <tr>\n",
       "      <th>25%</th>\n",
       "      <td>32.400000</td>\n",
       "      <td>0.00000</td>\n",
       "    </tr>\n",
       "    <tr>\n",
       "      <th>50%</th>\n",
       "      <td>35.200000</td>\n",
       "      <td>0.00000</td>\n",
       "    </tr>\n",
       "    <tr>\n",
       "      <th>75%</th>\n",
       "      <td>40.000000</td>\n",
       "      <td>11.00000</td>\n",
       "    </tr>\n",
       "    <tr>\n",
       "      <th>max</th>\n",
       "      <td>59.400000</td>\n",
       "      <td>100.00000</td>\n",
       "    </tr>\n",
       "  </tbody>\n",
       "</table>\n",
       "</div>"
      ],
      "text/plain": [
       "       Temperature     Height\n",
       "count   157.000000  157.00000\n",
       "mean     36.573885    7.39172\n",
       "std       7.075537   13.02221\n",
       "min      17.800000    0.00000\n",
       "25%      32.400000    0.00000\n",
       "50%      35.200000    0.00000\n",
       "75%      40.000000   11.00000\n",
       "max      59.400000  100.00000"
      ]
     },
     "execution_count": 12,
     "metadata": {},
     "output_type": "execute_result"
    }
   ],
   "source": [
    "dataFrame[dataFrame[\"Species\"] == \"Side-Blotched\"].describe()"
   ]
  },
  {
   "cell_type": "code",
   "execution_count": 8,
   "metadata": {
    "collapsed": false
   },
   "outputs": [],
   "source": [
    "def convertStringToDatetime(input):\n",
    "    return datetime.datetime.strptime(input, '%H:%M').time()"
   ]
  },
  {
   "cell_type": "code",
   "execution_count": 9,
   "metadata": {
    "collapsed": false
   },
   "outputs": [],
   "source": [
    "dataFrame[\"Time\"] = dataFrame[\"Time\"].apply(convertStringToDatetime)"
   ]
  },
  {
   "cell_type": "code",
   "execution_count": 5,
   "metadata": {
    "collapsed": false
   },
   "outputs": [
    {
     "data": {
      "text/plain": [
       "<matplotlib.legend.Legend at 0x115d37fd0>"
      ]
     },
     "execution_count": 5,
     "metadata": {},
     "output_type": "execute_result"
    },
    {
     "data": {
      "image/png": "[encoded data removed]",
      "text/plain": [
       "<matplotlib.figure.Figure at 0x115d50080>"
      ]
     },
     "metadata": {},
     "output_type": "display_data"
    }
   ],
   "source": [
    "fence = dataFrame[dataFrame[\"Species\"] == \"Fence\"]\n",
    "# fence = fence[fence[\"Height\"] > 0.0]\n",
    "side = dataFrame[dataFrame[\"Species\"] == \"Side-Blotched\"]\n",
    "# side = side[side[\"Height\"] > 0.0]\n",
    "plt.scatter(fence[fence[\"Height\"] > 0][\"Temperature\"], fence[fence[\"Height\"] > 0][\"Height\"], color='red')\n",
    "plt.scatter(side[side[\"Height\"] > 0][\"Temperature\"], side[side[\"Height\"] > 0][\"Height\"], color='blue')\n",
    "plt.title(\"Scatter plot for Temperature and Height of two Species\")\n",
    "plt.legend([\"Fence\", \"Side-blotched\"])"
   ]
  },
  {
   "cell_type": "code",
   "execution_count": null,
   "metadata": {
    "collapsed": false
   },
   "outputs": [],
   "source": []
  },
  {
   "cell_type": "code",
   "execution_count": 6,
   "metadata": {
    "collapsed": true
   },
   "outputs": [],
   "source": [
    "t1 = datetime.datetime.combine(datetime.date.today(), datetime.datetime.strptime(\"13:00\", '%H:%M').time())\n",
    "t2 = datetime.datetime.combine(datetime.date.today(), datetime.datetime.strptime(\"16:00\", '%H:%M').time())"
   ]
  },
  {
   "cell_type": "code",
   "execution_count": 7,
   "metadata": {
    "collapsed": false
   },
   "outputs": [
    {
     "data": {
      "text/plain": [
       "[datetime.time(13, 5),\n",
       " datetime.time(13, 20),\n",
       " datetime.time(13, 29),\n",
       " datetime.time(13, 30),\n",
       " datetime.time(13, 32),\n",
       " datetime.time(13, 32),\n",
       " datetime.time(13, 32),\n",
       " datetime.time(13, 32),\n",
       " datetime.time(13, 34),\n",
       " datetime.time(13, 35),\n",
       " datetime.time(13, 35),\n",
       " datetime.time(13, 35),\n",
       " datetime.time(13, 37),\n",
       " datetime.time(13, 37),\n",
       " datetime.time(13, 37),\n",
       " datetime.time(13, 38),\n",
       " datetime.time(13, 38),\n",
       " datetime.time(13, 39),\n",
       " datetime.time(13, 40),\n",
       " datetime.time(13, 40),\n",
       " datetime.time(13, 41),\n",
       " datetime.time(13, 41),\n",
       " datetime.time(13, 42),\n",
       " datetime.time(13, 42),\n",
       " datetime.time(13, 43),\n",
       " datetime.time(13, 43),\n",
       " datetime.time(13, 43),\n",
       " datetime.time(13, 43),\n",
       " datetime.time(13, 43),\n",
       " datetime.time(13, 44),\n",
       " datetime.time(13, 44),\n",
       " datetime.time(13, 45),\n",
       " datetime.time(13, 45),\n",
       " datetime.time(13, 45),\n",
       " datetime.time(13, 45),\n",
       " datetime.time(13, 45),\n",
       " datetime.time(13, 45),\n",
       " datetime.time(13, 45),\n",
       " datetime.time(13, 46),\n",
       " datetime.time(13, 46),\n",
       " datetime.time(13, 46),\n",
       " datetime.time(13, 47),\n",
       " datetime.time(13, 48),\n",
       " datetime.time(13, 48),\n",
       " datetime.time(13, 48),\n",
       " datetime.time(13, 48),\n",
       " datetime.time(13, 49),\n",
       " datetime.time(13, 50),\n",
       " datetime.time(13, 50),\n",
       " datetime.time(13, 50),\n",
       " datetime.time(13, 50),\n",
       " datetime.time(13, 50),\n",
       " datetime.time(13, 50),\n",
       " datetime.time(13, 50),\n",
       " datetime.time(13, 51),\n",
       " datetime.time(13, 51),\n",
       " datetime.time(13, 51),\n",
       " datetime.time(13, 51),\n",
       " datetime.time(13, 52),\n",
       " datetime.time(13, 52),\n",
       " datetime.time(13, 52),\n",
       " datetime.time(13, 52),\n",
       " datetime.time(13, 52),\n",
       " datetime.time(13, 52),\n",
       " datetime.time(13, 52),\n",
       " datetime.time(13, 52),\n",
       " datetime.time(13, 52),\n",
       " datetime.time(13, 52),\n",
       " datetime.time(13, 52),\n",
       " datetime.time(13, 52),\n",
       " datetime.time(13, 53),\n",
       " datetime.time(13, 53),\n",
       " datetime.time(13, 53),\n",
       " datetime.time(13, 53),\n",
       " datetime.time(13, 53),\n",
       " datetime.time(13, 53),\n",
       " datetime.time(13, 53),\n",
       " datetime.time(13, 53),\n",
       " datetime.time(13, 54),\n",
       " datetime.time(13, 55),\n",
       " datetime.time(13, 56),\n",
       " datetime.time(13, 56),\n",
       " datetime.time(13, 56),\n",
       " datetime.time(13, 56),\n",
       " datetime.time(13, 56),\n",
       " datetime.time(13, 56),\n",
       " datetime.time(13, 56),\n",
       " datetime.time(13, 56),\n",
       " datetime.time(13, 57),\n",
       " datetime.time(13, 57),\n",
       " datetime.time(13, 58),\n",
       " datetime.time(13, 58),\n",
       " datetime.time(13, 58),\n",
       " datetime.time(13, 59),\n",
       " datetime.time(13, 59),\n",
       " datetime.time(13, 59),\n",
       " datetime.time(14, 0),\n",
       " datetime.time(14, 0),\n",
       " datetime.time(14, 0),\n",
       " datetime.time(14, 0),\n",
       " datetime.time(14, 2),\n",
       " datetime.time(14, 2),\n",
       " datetime.time(14, 2),\n",
       " datetime.time(14, 2),\n",
       " datetime.time(14, 2),\n",
       " datetime.time(14, 2),\n",
       " datetime.time(14, 2),\n",
       " datetime.time(14, 3),\n",
       " datetime.time(14, 3),\n",
       " datetime.time(14, 3),\n",
       " datetime.time(14, 4),\n",
       " datetime.time(14, 4),\n",
       " datetime.time(14, 4),\n",
       " datetime.time(14, 4),\n",
       " datetime.time(14, 4),\n",
       " datetime.time(14, 5),\n",
       " datetime.time(14, 5),\n",
       " datetime.time(14, 5),\n",
       " datetime.time(14, 5),\n",
       " datetime.time(14, 6),\n",
       " datetime.time(14, 6),\n",
       " datetime.time(14, 6),\n",
       " datetime.time(14, 7),\n",
       " datetime.time(14, 7),\n",
       " datetime.time(14, 7),\n",
       " datetime.time(14, 7),\n",
       " datetime.time(14, 7),\n",
       " datetime.time(14, 7),\n",
       " datetime.time(14, 7),\n",
       " datetime.time(14, 7),\n",
       " datetime.time(14, 7),\n",
       " datetime.time(14, 7),\n",
       " datetime.time(14, 8),\n",
       " datetime.time(14, 8),\n",
       " datetime.time(14, 8),\n",
       " datetime.time(14, 9),\n",
       " datetime.time(14, 10),\n",
       " datetime.time(14, 10),\n",
       " datetime.time(14, 10),\n",
       " datetime.time(14, 10),\n",
       " datetime.time(14, 10),\n",
       " datetime.time(14, 11),\n",
       " datetime.time(14, 11),\n",
       " datetime.time(14, 12),\n",
       " datetime.time(14, 12),\n",
       " datetime.time(14, 12),\n",
       " datetime.time(14, 12),\n",
       " datetime.time(14, 12),\n",
       " datetime.time(14, 12),\n",
       " datetime.time(14, 12),\n",
       " datetime.time(14, 13),\n",
       " datetime.time(14, 13),\n",
       " datetime.time(14, 13),\n",
       " datetime.time(14, 13),\n",
       " datetime.time(14, 13),\n",
       " datetime.time(14, 14),\n",
       " datetime.time(14, 14),\n",
       " datetime.time(14, 14),\n",
       " datetime.time(14, 15),\n",
       " datetime.time(14, 15),\n",
       " datetime.time(14, 15),\n",
       " datetime.time(14, 15),\n",
       " datetime.time(14, 15),\n",
       " datetime.time(14, 15),\n",
       " datetime.time(14, 16),\n",
       " datetime.time(14, 16),\n",
       " datetime.time(14, 16),\n",
       " datetime.time(14, 17),\n",
       " datetime.time(14, 17),\n",
       " datetime.time(14, 18),\n",
       " datetime.time(14, 18),\n",
       " datetime.time(14, 18),\n",
       " datetime.time(14, 19),\n",
       " datetime.time(14, 19),\n",
       " datetime.time(14, 19),\n",
       " datetime.time(14, 19),\n",
       " datetime.time(14, 20),\n",
       " datetime.time(14, 20),\n",
       " datetime.time(14, 20),\n",
       " datetime.time(14, 20),\n",
       " datetime.time(14, 20),\n",
       " datetime.time(14, 20),\n",
       " datetime.time(14, 21),\n",
       " datetime.time(14, 21),\n",
       " datetime.time(14, 22),\n",
       " datetime.time(14, 23),\n",
       " datetime.time(14, 23),\n",
       " datetime.time(14, 23),\n",
       " datetime.time(14, 24),\n",
       " datetime.time(14, 24),\n",
       " datetime.time(14, 24),\n",
       " datetime.time(14, 24),\n",
       " datetime.time(14, 25),\n",
       " datetime.time(14, 25),\n",
       " datetime.time(14, 25),\n",
       " datetime.time(14, 25),\n",
       " datetime.time(14, 25),\n",
       " datetime.time(14, 25),\n",
       " datetime.time(14, 26),\n",
       " datetime.time(14, 26),\n",
       " datetime.time(14, 27),\n",
       " datetime.time(14, 28),\n",
       " datetime.time(14, 28),\n",
       " datetime.time(14, 28),\n",
       " datetime.time(14, 28),\n",
       " datetime.time(14, 29),\n",
       " datetime.time(14, 29),\n",
       " datetime.time(14, 29),\n",
       " datetime.time(14, 30),\n",
       " datetime.time(14, 30),\n",
       " datetime.time(14, 30),\n",
       " datetime.time(14, 30),\n",
       " datetime.time(14, 30),\n",
       " datetime.time(14, 30),\n",
       " datetime.time(14, 31),\n",
       " datetime.time(14, 31),\n",
       " datetime.time(14, 32),\n",
       " datetime.time(14, 32),\n",
       " datetime.time(14, 32),\n",
       " datetime.time(14, 32),\n",
       " datetime.time(14, 32),\n",
       " datetime.time(14, 33),\n",
       " datetime.time(14, 34),\n",
       " datetime.time(14, 34),\n",
       " datetime.time(14, 35),\n",
       " datetime.time(14, 35),\n",
       " datetime.time(14, 35),\n",
       " datetime.time(14, 35),\n",
       " datetime.time(14, 35),\n",
       " datetime.time(14, 36),\n",
       " datetime.time(14, 36),\n",
       " datetime.time(14, 36),\n",
       " datetime.time(14, 37),\n",
       " datetime.time(14, 37),\n",
       " datetime.time(14, 38),\n",
       " datetime.time(14, 38),\n",
       " datetime.time(14, 38),\n",
       " datetime.time(14, 38),\n",
       " datetime.time(14, 38),\n",
       " datetime.time(14, 38),\n",
       " datetime.time(14, 40),\n",
       " datetime.time(14, 40),\n",
       " datetime.time(14, 40),\n",
       " datetime.time(14, 40),\n",
       " datetime.time(14, 41),\n",
       " datetime.time(14, 41),\n",
       " datetime.time(14, 41),\n",
       " datetime.time(14, 42),\n",
       " datetime.time(14, 42),\n",
       " datetime.time(14, 43),\n",
       " datetime.time(14, 43),\n",
       " datetime.time(14, 43),\n",
       " datetime.time(14, 43),\n",
       " datetime.time(14, 44),\n",
       " datetime.time(14, 44),\n",
       " datetime.time(14, 44),\n",
       " datetime.time(14, 45),\n",
       " datetime.time(14, 46),\n",
       " datetime.time(14, 47),\n",
       " datetime.time(14, 47),\n",
       " datetime.time(14, 48),\n",
       " datetime.time(14, 48),\n",
       " datetime.time(14, 48),\n",
       " datetime.time(14, 49),\n",
       " datetime.time(14, 50),\n",
       " datetime.time(14, 50),\n",
       " datetime.time(14, 50),\n",
       " datetime.time(14, 50),\n",
       " datetime.time(14, 50),\n",
       " datetime.time(14, 50),\n",
       " datetime.time(14, 50),\n",
       " datetime.time(14, 50),\n",
       " datetime.time(14, 50),\n",
       " datetime.time(14, 51),\n",
       " datetime.time(14, 52),\n",
       " datetime.time(14, 52),\n",
       " datetime.time(14, 53),\n",
       " datetime.time(14, 53),\n",
       " datetime.time(14, 53),\n",
       " datetime.time(14, 55),\n",
       " datetime.time(14, 55),\n",
       " datetime.time(14, 55),\n",
       " datetime.time(14, 55),\n",
       " datetime.time(14, 56),\n",
       " datetime.time(14, 58),\n",
       " datetime.time(14, 58),\n",
       " datetime.time(14, 58),\n",
       " datetime.time(14, 59),\n",
       " datetime.time(14, 59),\n",
       " datetime.time(14, 59),\n",
       " datetime.time(15, 0),\n",
       " datetime.time(15, 0),\n",
       " datetime.time(15, 1),\n",
       " datetime.time(15, 1),\n",
       " datetime.time(15, 1),\n",
       " datetime.time(15, 1),\n",
       " datetime.time(15, 2),\n",
       " datetime.time(15, 2),\n",
       " datetime.time(15, 3),\n",
       " datetime.time(15, 3),\n",
       " datetime.time(15, 3),\n",
       " datetime.time(15, 3),\n",
       " datetime.time(15, 4),\n",
       " datetime.time(15, 6),\n",
       " datetime.time(15, 6),\n",
       " datetime.time(15, 6),\n",
       " datetime.time(15, 8),\n",
       " datetime.time(15, 8),\n",
       " datetime.time(15, 8),\n",
       " datetime.time(15, 8),\n",
       " datetime.time(15, 8),\n",
       " datetime.time(15, 9),\n",
       " datetime.time(15, 9),\n",
       " datetime.time(15, 10),\n",
       " datetime.time(15, 10),\n",
       " datetime.time(15, 10),\n",
       " datetime.time(15, 12),\n",
       " datetime.time(15, 13),\n",
       " datetime.time(15, 13),\n",
       " datetime.time(15, 13),\n",
       " datetime.time(15, 13),\n",
       " datetime.time(15, 14),\n",
       " datetime.time(15, 15),\n",
       " datetime.time(15, 15),\n",
       " datetime.time(15, 15),\n",
       " datetime.time(15, 18),\n",
       " datetime.time(15, 18),\n",
       " datetime.time(15, 22),\n",
       " datetime.time(15, 27),\n",
       " datetime.time(15, 30),\n",
       " datetime.time(15, 30),\n",
       " datetime.time(15, 30),\n",
       " datetime.time(15, 30),\n",
       " datetime.time(15, 31),\n",
       " datetime.time(15, 35),\n",
       " datetime.time(15, 48),\n",
       " datetime.time(16, 26),\n",
       " datetime.time(16, 32),\n",
       " datetime.time(16, 35),\n",
       " datetime.time(16, 39),\n",
       " datetime.time(16, 41)]"
      ]
     },
     "execution_count": 7,
     "metadata": {},
     "output_type": "execute_result"
    }
   ],
   "source": [
    "sorted(dataFrame[\"Time\"])[:-3]"
   ]
  },
  {
   "cell_type": "code",
   "execution_count": 8,
   "metadata": {
    "collapsed": false
   },
   "outputs": [
    {
     "name": "stdout",
     "output_type": "stream",
     "text": [
      "[datetime.time(13, 0), datetime.time(13, 15), datetime.time(13, 30), datetime.time(13, 45), datetime.time(14, 0), datetime.time(14, 15), datetime.time(14, 30), datetime.time(14, 45), datetime.time(15, 0), datetime.time(15, 15), datetime.time(15, 30), datetime.time(15, 45), datetime.time(16, 0)]\n"
     ]
    }
   ],
   "source": [
    "n_bins = 12\n",
    "time_box = t1 + (t2 - t1) * np.linspace(0, 1, n_bins+1)\n",
    "new_time = [x.time() for x in time_box]\n",
    "print(new_time)"
   ]
  },
  {
   "cell_type": "code",
   "execution_count": 9,
   "metadata": {
    "collapsed": false
   },
   "outputs": [],
   "source": [
    "time_col = dataFrame[\"Time\"].values"
   ]
  },
  {
   "cell_type": "code",
   "execution_count": 10,
   "metadata": {
    "collapsed": false
   },
   "outputs": [
    {
     "data": {
      "image/png": "[encoded data removed]",
      "text/plain": [
       "<matplotlib.figure.Figure at 0x115d75128>"
      ]
     },
     "metadata": {},
     "output_type": "display_data"
    }
   ],
   "source": [
    "import matplotlib.dates\n",
    "plt.figure(figsize=(8,8))\n",
    "plt.hist(sorted(side[\"Time\"])[:-3], \n",
    "         bins=n_bins, \n",
    "         alpha=0.5,\n",
    "         color='blue',\n",
    "         label='2',\n",
    "         align='mid', \n",
    "         rwidth=0.8,\n",
    "         histtype='bar',\n",
    "         range=(datetime.time(13, 0), datetime.time(16, 0)))\n",
    "plt.xlim(datetime.time(13, 0), datetime.time(16, 0))\n",
    "plt.xticks(new_time, rotation=90)\n",
    "\n",
    "plt.hist(sorted(fence[\"Time\"])[:-3], \n",
    "         bins=n_bins, \n",
    "         alpha=0.5,\n",
    "         color='red',\n",
    "         label='2',\n",
    "         align='mid', \n",
    "         rwidth=0.8,\n",
    "         histtype='bar',\n",
    "         range=(datetime.time(13, 0), datetime.time(16, 0)))\n",
    "# plt.xlim(datetime.time(13, 0), datetime.time(16, 0))\n",
    "# plt.xticks(new_time, rotation=45)\n",
    "# plt.x_axis.set_major_formatter()\n",
    "# plt.x_axis.set_major_formatter()\n",
    "plt.title(\"Histogram of Lizards Observation\")\n",
    "plt.xlabel(\"Time\")\n",
    "plt.ylabel(\"Number of Observations\")\n",
    "plt.legend(['Side-blotched', 'Fence'])\n",
    "plt.savefig(\"histogram_lizard_time.png\")"
   ]
  },
  {
   "cell_type": "code",
   "execution_count": 11,
   "metadata": {
    "collapsed": false
   },
   "outputs": [
    {
     "data": {
      "text/plain": [
       "([<matplotlib.axis.XTick at 0x116f111d0>,\n",
       "  <matplotlib.axis.XTick at 0x116f85cf8>,\n",
       "  <matplotlib.axis.XTick at 0x116fbff60>,\n",
       "  <matplotlib.axis.XTick at 0x116ff23c8>,\n",
       "  <matplotlib.axis.XTick at 0x116ff2e10>,\n",
       "  <matplotlib.axis.XTick at 0x116ff4898>,\n",
       "  <matplotlib.axis.XTick at 0x116ff7320>,\n",
       "  <matplotlib.axis.XTick at 0x116ff7d68>,\n",
       "  <matplotlib.axis.XTick at 0x1172927f0>,\n",
       "  <matplotlib.axis.XTick at 0x117295278>,\n",
       "  <matplotlib.axis.XTick at 0x117295cc0>,\n",
       "  <matplotlib.axis.XTick at 0x11729a748>,\n",
       "  <matplotlib.axis.XTick at 0x11729d1d0>],\n",
       " <a list of 13 Text xticklabel objects>)"
      ]
     },
     "execution_count": 11,
     "metadata": {},
     "output_type": "execute_result"
    },
    {
     "data": {
      "image/png": "[encoded data removed]",
      "text/plain": [
       "<matplotlib.figure.Figure at 0x115d50908>"
      ]
     },
     "metadata": {},
     "output_type": "display_data"
    }
   ],
   "source": [
    "import matplotlib.dates\n",
    "plt.figure(figsize=(12,12))\n",
    "plt.hist(sorted(dataFrame[\"Time\"])[:-3], \n",
    "         bins=n_bins, \n",
    "         alpha=0.5,\n",
    "         label='2',\n",
    "         align='mid', \n",
    "         rwidth=0.8,\n",
    "         histtype='bar',\n",
    "         range=(datetime.time(13, 0), datetime.time(16, 0)))\n",
    "plt.xlim(datetime.time(13, 0), datetime.time(16, 0))\n",
    "plt.xticks(new_time, rotation=45)\n",
    "# plt.x_axis.set_major_formatter()"
   ]
  },
  {
   "cell_type": "code",
   "execution_count": 12,
   "metadata": {
    "collapsed": false
   },
   "outputs": [
    {
     "data": {
      "text/plain": [
       "(0, 100)"
      ]
     },
     "execution_count": 12,
     "metadata": {},
     "output_type": "execute_result"
    },
    {
     "data": {
      "image/png": "[encoded data removed]",
      "text/plain": [
       "<matplotlib.figure.Figure at 0x115d50048>"
      ]
     },
     "metadata": {},
     "output_type": "display_data"
    }
   ],
   "source": [
    "plt.hist(dataFrame[\"Height\"], bins=10)\n",
    "plt.xlim(0,100)"
   ]
  },
  {
   "cell_type": "markdown",
   "metadata": {},
   "source": [
    "# Training"
   ]
  },
  {
   "cell_type": "code",
   "execution_count": 13,
   "metadata": {
    "collapsed": false
   },
   "outputs": [],
   "source": [
    "# Group by time\n",
    "def groupByTime(val):\n",
    "    return (val.hour - 13)*4 + (val.minute / 15)\n",
    "dataFrame[\"Time\"] = dataFrame[\"Time\"].apply(groupByTime)"
   ]
  },
  {
   "cell_type": "code",
   "execution_count": 14,
   "metadata": {
    "collapsed": true
   },
   "outputs": [],
   "source": [
    "# Randomly select\n",
    "dataFrame = dataFrame.sample(frac=1)"
   ]
  },
  {
   "cell_type": "code",
   "execution_count": 15,
   "metadata": {
    "collapsed": false
   },
   "outputs": [],
   "source": [
    "X = dataFrame.drop([\"Species\"], axis=1).as_matrix()\n",
    "y = dataFrame[\"Species\"].as_matrix()\n",
    "y = np.array([int(i == \"Fence\") for i in y])"
   ]
  },
  {
   "cell_type": "code",
   "execution_count": 16,
   "metadata": {
    "collapsed": false
   },
   "outputs": [],
   "source": [
    "n = X.shape[0]\n",
    "frac = 0.9\n",
    "Xtrain = X[:int(frac*n),:]\n",
    "ytrain = y[:int(frac*n)]\n",
    "Xtest  = X[int(frac*n):,:]\n",
    "ytest  = y[int(frac*n):]"
   ]
  },
  {
   "cell_type": "code",
   "execution_count": 17,
   "metadata": {
    "collapsed": false
   },
   "outputs": [
    {
     "name": "stdout",
     "output_type": "stream",
     "text": [
      "(309, 4)\n",
      "(35, 4)\n",
      "[7.666666666666666 31.4 14.0 'Overcast']\n"
     ]
    }
   ],
   "source": [
    "print(Xtrain.shape)\n",
    "print(Xtest.shape)\n",
    "print(Xtrain[0])"
   ]
  },
  {
   "cell_type": "code",
   "execution_count": 18,
   "metadata": {
    "collapsed": false
   },
   "outputs": [],
   "source": [
    "import scipy\n",
    "import sklearn\n",
    "from sklearn.neural_network import MLPClassifier\n",
    "from sklearn.metrics import accuracy_score"
   ]
  },
  {
   "cell_type": "code",
   "execution_count": 19,
   "metadata": {
    "collapsed": false
   },
   "outputs": [
    {
     "name": "stderr",
     "output_type": "stream",
     "text": [
      "/Users/teerapatjenrungrot/anaconda3/lib/python3.5/site-packages/sklearn/neural_network/multilayer_perceptron.py:904: DataConversionWarning: A column-vector y was passed when a 1d array was expected. Please change the shape of y to (n_samples, ), for example using ravel().\n",
      "  y = column_or_1d(y, warn=True)\n"
     ]
    },
    {
     "data": {
      "text/plain": [
       "MLPClassifier(activation='relu', alpha=1e-05, batch_size='auto', beta_1=0.9,\n",
       "       beta_2=0.999, early_stopping=False, epsilon=1e-08,\n",
       "       hidden_layer_sizes=(200, 200), learning_rate='constant',\n",
       "       learning_rate_init=0.001, max_iter=200, momentum=0.9,\n",
       "       nesterovs_momentum=True, power_t=0.5, random_state=2, shuffle=True,\n",
       "       solver='lbfgs', tol=0.0001, validation_fraction=0.1, verbose=False,\n",
       "       warm_start=False)"
      ]
     },
     "execution_count": 19,
     "metadata": {},
     "output_type": "execute_result"
    }
   ],
   "source": [
    "clf = MLPClassifier(solver='lbfgs',\n",
    "                    alpha=1e-5,\n",
    "                    hidden_layer_sizes=(200,200),\n",
    "                    random_state=2,\n",
    "#                     warm_start=True,\n",
    "                   )\n",
    "clf.fit(Xtrain[:,1].reshape(-1,1), ytrain.reshape(-1,1))"
   ]
  },
  {
   "cell_type": "code",
   "execution_count": 20,
   "metadata": {
    "collapsed": false
   },
   "outputs": [
    {
     "name": "stdout",
     "output_type": "stream",
     "text": [
      "[0 1 1 0 0 1 1 0 1 1 0 1 0 1 1 1 0 1 1 1 1 0 1 1 1 1 1 1 1 1 0 0 1 1 0]\n",
      "[1 1 0 0 0 0 1 0 1 0 0 0 1 1 1 0 1 1 1 1 1 0 1 0 1 0 1 1 0 0 0 1 0 1 0]\n",
      "[0 1 0 1 1 0 1 1 1 0 1 0 0 1 1 0 0 1 1 1 1 1 1 0 1 0 1 1 0 0 1 0 0 1 1]\n",
      "Accuracy = 0.6\n"
     ]
    }
   ],
   "source": [
    "clf.fit(Xtrain[:,:3],ytrain)\n",
    "prediction = clf.predict(Xtest[:,:3])\n",
    "print(prediction)\n",
    "print(ytest)\n",
    "print(np.array([int(prediction[i] == ytest[i]) for i in range(len(prediction))]))\n",
    "print(\"Accuracy = {}\".format(accuracy_score(ytest, prediction)))"
   ]
  },
  {
   "cell_type": "code",
   "execution_count": 21,
   "metadata": {
    "collapsed": false
   },
   "outputs": [
    {
     "data": {
      "text/plain": [
       "array([[  6.42233339e-01,   3.57766661e-01],\n",
       "       [  2.53921328e-11,   1.00000000e+00],\n",
       "       [  2.62246866e-02,   9.73775313e-01],\n",
       "       [  5.56155860e-01,   4.43844140e-01],\n",
       "       [  6.32735635e-01,   3.67264365e-01],\n",
       "       [  4.16125945e-01,   5.83874055e-01],\n",
       "       [  4.86284176e-01,   5.13715824e-01],\n",
       "       [  6.57121978e-01,   3.42878022e-01],\n",
       "       [  4.45733007e-01,   5.54266993e-01],\n",
       "       [  4.28166620e-01,   5.71833380e-01],\n",
       "       [  5.41329510e-01,   4.58670490e-01],\n",
       "       [  4.24648318e-01,   5.75351682e-01],\n",
       "       [  6.57435519e-01,   3.42564481e-01],\n",
       "       [  1.55711899e-01,   8.44288101e-01],\n",
       "       [  4.02670468e-01,   5.97329532e-01],\n",
       "       [  4.46480185e-01,   5.53519815e-01],\n",
       "       [  6.86324401e-01,   3.13675599e-01],\n",
       "       [  2.50851490e-01,   7.49148510e-01],\n",
       "       [  1.33226763e-15,   1.00000000e+00],\n",
       "       [  1.90177934e-01,   8.09822066e-01],\n",
       "       [  3.93630301e-01,   6.06369699e-01],\n",
       "       [  6.25310835e-01,   3.74689165e-01],\n",
       "       [  7.10176931e-03,   9.92898231e-01],\n",
       "       [  4.66375391e-01,   5.33624609e-01],\n",
       "       [  1.46480910e-01,   8.53519090e-01],\n",
       "       [  4.92128807e-01,   5.07871193e-01],\n",
       "       [  2.63667348e-01,   7.36332652e-01],\n",
       "       [  1.76139960e-05,   9.99982386e-01],\n",
       "       [  3.18513947e-01,   6.81486053e-01],\n",
       "       [  4.72244705e-01,   5.27755295e-01],\n",
       "       [  6.18772216e-01,   3.81227784e-01],\n",
       "       [  6.77594282e-01,   3.22405718e-01],\n",
       "       [  4.76320824e-01,   5.23679176e-01],\n",
       "       [  4.56739690e-01,   5.43260310e-01],\n",
       "       [  5.01030099e-01,   4.98969901e-01]])"
      ]
     },
     "execution_count": 21,
     "metadata": {},
     "output_type": "execute_result"
    }
   ],
   "source": [
    "clf.predict_proba(Xtest[:,:3])"
   ]
  },
  {
   "cell_type": "code",
   "execution_count": null,
   "metadata": {
    "collapsed": false
   },
   "outputs": [],
   "source": []
  },
  {
   "cell_type": "code",
   "execution_count": 22,
   "metadata": {
    "collapsed": false
   },
   "outputs": [
    {
     "data": {
      "text/plain": [
       "1"
      ]
     },
     "execution_count": 22,
     "metadata": {},
     "output_type": "execute_result"
    }
   ],
   "source": [
    "ytrain[217]"
   ]
  },
  {
   "cell_type": "code",
   "execution_count": 23,
   "metadata": {
    "collapsed": false
   },
   "outputs": [
    {
     "data": {
      "text/plain": [
       "(309, 3)"
      ]
     },
     "execution_count": 23,
     "metadata": {},
     "output_type": "execute_result"
    }
   ],
   "source": [
    "Xtrain[:,:3].shape"
   ]
  },
  {
   "cell_type": "code",
   "execution_count": null,
   "metadata": {
    "collapsed": true
   },
   "outputs": [],
   "source": []
  }
 ],
 "metadata": {
  "anaconda-cloud": {},
  "kernelspec": {
   "display_name": "Python [Root]",
   "language": "python",
   "name": "Python [Root]"
  },
  "language_info": {
   "codemirror_mode": {
    "name": "ipython",
    "version": 3
   },
   "file_extension": ".py",
   "mimetype": "text/x-python",
   "name": "python",
   "nbconvert_exporter": "python",
   "pygments_lexer": "ipython3",
   "version": "3.5.2"
  }
 },
 "nbformat": 4,
 "nbformat_minor": 0
}
